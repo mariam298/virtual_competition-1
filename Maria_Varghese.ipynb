{
  "nbformat": 4,
  "nbformat_minor": 0,
  "metadata": {
    "colab": {
      "provenance": []
    },
    "kernelspec": {
      "name": "python3",
      "display_name": "Python 3"
    },
    "language_info": {
      "name": "python"
    }
  },
  "cells": [
    {
      "cell_type": "code",
      "execution_count": null,
      "metadata": {
        "id": "4R-sAxVVSNAO"
      },
      "outputs": [],
      "source": [
        "import pandas as pd\n",
        "\n",
        "\n",
        "df = pd.read_csv('ny-flights.csv')"
      ]
    },
    {
      "cell_type": "markdown",
      "source": [
        "**1.** Create a DataFrame `df` from this dictionary `data` which has the index `labels`.\n"
      ],
      "metadata": {
        "id": "yzqeSMOZA6l1"
      }
    },
    {
      "cell_type": "code",
      "source": [
        "import pandas as pd\n",
        "import numpy as np\n",
        "\n",
        "data = {'animal': ['cat', 'cat', 'snake', 'dog', 'dog', 'cat', 'snake', 'cat', 'dog', 'dog'],\n",
        "        'age': [2.5, 3, 0.5, np.nan, 5, 2, 4.5, np.nan, 7, 3],\n",
        "        'visits': [1, 3, 2, 3, 2, 3, 1, 1, 2, 1],\n",
        "        'priority': ['yes', 'yes', 'no', 'yes', 'no', 'no', 'no', 'yes', 'no', 'no']}\n",
        "\n",
        "labels = ['a', 'b', 'c', 'd', 'e', 'f', 'g', 'h', 'i', 'j']\n",
        "\n",
        "df = pd.DataFrame(data, index=labels)\n"
      ],
      "metadata": {
        "id": "Nkd_9YVTW0Es"
      },
      "execution_count": 2,
      "outputs": []
    },
    {
      "cell_type": "code",
      "source": [
        "print(df)"
      ],
      "metadata": {
        "colab": {
          "base_uri": "https://localhost:8080/"
        },
        "id": "zPOrgSf5W30W",
        "outputId": "446235b1-b3d7-42d8-e165-0676fb2b0860"
      },
      "execution_count": null,
      "outputs": [
        {
          "output_type": "stream",
          "name": "stdout",
          "text": [
            "  animal  age  visits priority\n",
            "a    cat  2.5       1      yes\n",
            "b    cat  3.0       3      yes\n",
            "c  snake  0.5       2       no\n",
            "d    dog  NaN       3      yes\n",
            "e    dog  5.0       2       no\n",
            "f    cat  2.0       3       no\n",
            "g  snake  4.5       1       no\n",
            "h    cat  NaN       1      yes\n",
            "i    dog  7.0       2       no\n",
            "j    dog  3.0       1       no\n"
          ]
        }
      ]
    },
    {
      "cell_type": "markdown",
      "source": [
        "**2.** Display a summary of the basic information about this DataFrame and its data (*hint: there is a single method that can be called on the DataFrame*).\n"
      ],
      "metadata": {
        "id": "kW6To735BeOO"
      }
    },
    {
      "cell_type": "code",
      "source": [
        "print(df.info())"
      ],
      "metadata": {
        "colab": {
          "base_uri": "https://localhost:8080/"
        },
        "id": "vUsqeFGpXLiS",
        "outputId": "89ecdb24-5178-45ff-f59a-330360fc1a8a"
      },
      "execution_count": null,
      "outputs": [
        {
          "output_type": "stream",
          "name": "stdout",
          "text": [
            "<class 'pandas.core.frame.DataFrame'>\n",
            "Index: 10 entries, a to j\n",
            "Data columns (total 4 columns):\n",
            " #   Column    Non-Null Count  Dtype  \n",
            "---  ------    --------------  -----  \n",
            " 0   animal    10 non-null     object \n",
            " 1   age       8 non-null      float64\n",
            " 2   visits    10 non-null     int64  \n",
            " 3   priority  10 non-null     object \n",
            "dtypes: float64(1), int64(1), object(2)\n",
            "memory usage: 400.0+ bytes\n",
            "None\n"
          ]
        }
      ]
    },
    {
      "cell_type": "markdown",
      "source": [
        "**3.** Return the first 3 rows of the DataFrame `df`."
      ],
      "metadata": {
        "id": "6mrqEyYqBzZG"
      }
    },
    {
      "cell_type": "code",
      "source": [
        "print(df.head(3))"
      ],
      "metadata": {
        "colab": {
          "base_uri": "https://localhost:8080/"
        },
        "id": "_YCBSomTXsD3",
        "outputId": "635ff348-4d13-4f8f-da29-38a9f259cd03"
      },
      "execution_count": null,
      "outputs": [
        {
          "output_type": "stream",
          "name": "stdout",
          "text": [
            "  animal  age  visits priority\n",
            "a    cat  2.5       1      yes\n",
            "b    cat  3.0       3      yes\n",
            "c  snake  0.5       2       no\n"
          ]
        }
      ]
    },
    {
      "cell_type": "markdown",
      "source": [
        "**4.** Display the 'animal' and 'age' columns from the DataFrame `df`"
      ],
      "metadata": {
        "id": "ECDHjDc5CBPe"
      }
    },
    {
      "cell_type": "code",
      "source": [
        "print(df[['animal', 'age']])"
      ],
      "metadata": {
        "colab": {
          "base_uri": "https://localhost:8080/"
        },
        "id": "IYxe_b_YYUiq",
        "outputId": "a09eac82-047b-42a9-c290-bfb27ede1c93"
      },
      "execution_count": null,
      "outputs": [
        {
          "output_type": "stream",
          "name": "stdout",
          "text": [
            "  animal  age\n",
            "a    cat  2.5\n",
            "b    cat  3.0\n",
            "c  snake  0.5\n",
            "d    dog  NaN\n",
            "e    dog  5.0\n",
            "f    cat  2.0\n",
            "g  snake  4.5\n",
            "h    cat  NaN\n",
            "i    dog  7.0\n",
            "j    dog  3.0\n"
          ]
        }
      ]
    },
    {
      "cell_type": "markdown",
      "source": [
        "**5.** Display the data in rows `[3, 4, 8]` *and* in columns `['animal', 'age']'"
      ],
      "metadata": {
        "id": "QOpKRk9RCdP-"
      }
    },
    {
      "cell_type": "code",
      "source": [
        "print(df.loc[['d', 'e', 'i'], ['animal', 'age']])"
      ],
      "metadata": {
        "id": "pC882g3DccDN",
        "colab": {
          "base_uri": "https://localhost:8080/"
        },
        "outputId": "ba0c5d68-110d-42b3-9e70-83bd202c9711"
      },
      "execution_count": 3,
      "outputs": [
        {
          "output_type": "stream",
          "name": "stdout",
          "text": [
            "  animal  age\n",
            "d    dog  NaN\n",
            "e    dog  5.0\n",
            "i    dog  7.0\n"
          ]
        }
      ]
    },
    {
      "cell_type": "markdown",
      "source": [
        "**6.** Select only the rows where the number of visits is greater than 3.\n"
      ],
      "metadata": {
        "id": "KZiK2cwsCvHX"
      }
    },
    {
      "cell_type": "code",
      "source": [
        "print(df[df['visits'] > 3])"
      ],
      "metadata": {
        "colab": {
          "base_uri": "https://localhost:8080/"
        },
        "id": "uMEak2neCuiH",
        "outputId": "3a7e373b-2e7c-4c92-a745-e4ba3a63bd3d"
      },
      "execution_count": 4,
      "outputs": [
        {
          "output_type": "stream",
          "name": "stdout",
          "text": [
            "Empty DataFrame\n",
            "Columns: [animal, age, visits, priority]\n",
            "Index: []\n"
          ]
        }
      ]
    },
    {
      "cell_type": "markdown",
      "source": [
        "**7.** Select the rows where the age is missing, i.e. it is `NaN`.\n"
      ],
      "metadata": {
        "id": "geXxifWnDHbe"
      }
    },
    {
      "cell_type": "code",
      "source": [
        "print(df[df['age'].isna()])"
      ],
      "metadata": {
        "colab": {
          "base_uri": "https://localhost:8080/"
        },
        "id": "mGvjZwqpDBm5",
        "outputId": "2b1e6f0c-d1ef-4a96-8ed4-669527fcd62d"
      },
      "execution_count": 5,
      "outputs": [
        {
          "output_type": "stream",
          "name": "stdout",
          "text": [
            "  animal  age  visits priority\n",
            "d    dog  NaN       3      yes\n",
            "h    cat  NaN       1      yes\n"
          ]
        }
      ]
    },
    {
      "cell_type": "markdown",
      "source": [
        "**8.** Select the rows where the animal is a cat *and* the age is less than 3.\n"
      ],
      "metadata": {
        "id": "cLAZEgfmDe76"
      }
    },
    {
      "cell_type": "code",
      "source": [
        "print(df[(df['animal'] == 'cat') & (df['age'] < 3)])"
      ],
      "metadata": {
        "colab": {
          "base_uri": "https://localhost:8080/"
        },
        "id": "AphXc0GZDW_b",
        "outputId": "95eabd89-f733-4abf-b8df-5feee8a52901"
      },
      "execution_count": 6,
      "outputs": [
        {
          "output_type": "stream",
          "name": "stdout",
          "text": [
            "  animal  age  visits priority\n",
            "a    cat  2.5       1      yes\n",
            "f    cat  2.0       3       no\n"
          ]
        }
      ]
    },
    {
      "cell_type": "markdown",
      "source": [
        "**9.** Select the rows where the age is between 2 and 4 (inclusive)\n"
      ],
      "metadata": {
        "id": "xRbKYas9Dyw1"
      }
    },
    {
      "cell_type": "code",
      "source": [
        "print(df[df['age'].between(2, 4)])"
      ],
      "metadata": {
        "colab": {
          "base_uri": "https://localhost:8080/"
        },
        "id": "9yaXZ4KSDvd-",
        "outputId": "44e532b9-864d-4b24-cf04-c347d61f2be4"
      },
      "execution_count": 7,
      "outputs": [
        {
          "output_type": "stream",
          "name": "stdout",
          "text": [
            "  animal  age  visits priority\n",
            "a    cat  2.5       1      yes\n",
            "b    cat  3.0       3      yes\n",
            "f    cat  2.0       3       no\n",
            "j    dog  3.0       1       no\n"
          ]
        }
      ]
    },
    {
      "cell_type": "markdown",
      "source": [
        "**10.** Change the age in row 'f' to 1.5."
      ],
      "metadata": {
        "id": "ePgM2cLLEdxv"
      }
    },
    {
      "cell_type": "code",
      "source": [
        "df.loc['f', 'age'] = 1.5\n",
        "print(df)"
      ],
      "metadata": {
        "colab": {
          "base_uri": "https://localhost:8080/"
        },
        "id": "-QjngTh1EV4h",
        "outputId": "e479bad0-cdd6-4190-de41-a201309271cb"
      },
      "execution_count": 8,
      "outputs": [
        {
          "output_type": "stream",
          "name": "stdout",
          "text": [
            "  animal  age  visits priority\n",
            "a    cat  2.5       1      yes\n",
            "b    cat  3.0       3      yes\n",
            "c  snake  0.5       2       no\n",
            "d    dog  NaN       3      yes\n",
            "e    dog  5.0       2       no\n",
            "f    cat  1.5       3       no\n",
            "g  snake  4.5       1       no\n",
            "h    cat  NaN       1      yes\n",
            "i    dog  7.0       2       no\n",
            "j    dog  3.0       1       no\n"
          ]
        }
      ]
    },
    {
      "cell_type": "markdown",
      "source": [
        "**11.** Calculate the sum of all visits in `df` (i.e. the total number of visits).\n"
      ],
      "metadata": {
        "id": "fajMwa4AE2Qf"
      }
    },
    {
      "cell_type": "code",
      "source": [
        "print(df['visits'].sum())"
      ],
      "metadata": {
        "colab": {
          "base_uri": "https://localhost:8080/"
        },
        "id": "yX7RtsBGEyQz",
        "outputId": "4095a1c1-0ff2-44bd-c4b6-83ee32b897f0"
      },
      "execution_count": 9,
      "outputs": [
        {
          "output_type": "stream",
          "name": "stdout",
          "text": [
            "19\n"
          ]
        }
      ]
    },
    {
      "cell_type": "markdown",
      "source": [
        "**12.** Calculate the mean age for each different animal in `df`."
      ],
      "metadata": {
        "id": "0ucg5PNnFH5C"
      }
    },
    {
      "cell_type": "code",
      "source": [
        "print(df.groupby('animal')['age'].mean())"
      ],
      "metadata": {
        "colab": {
          "base_uri": "https://localhost:8080/"
        },
        "id": "JsdAKdvOFD07",
        "outputId": "0e5c15d1-32f2-497b-bf3b-08d3fd7ae79d"
      },
      "execution_count": 10,
      "outputs": [
        {
          "output_type": "stream",
          "name": "stdout",
          "text": [
            "animal\n",
            "cat      2.333333\n",
            "dog      5.000000\n",
            "snake    2.500000\n",
            "Name: age, dtype: float64\n"
          ]
        }
      ]
    },
    {
      "cell_type": "markdown",
      "source": [
        "**13.** Append a new row 'k' to `df` with your choice of values for each column. Then delete that row to return the original DataFrame."
      ],
      "metadata": {
        "id": "ZnFRwT3DFaGS"
      }
    },
    {
      "cell_type": "code",
      "source": [
        "df.loc['k'] = ['dog', 4, 2, 'no']\n",
        "print(df)"
      ],
      "metadata": {
        "colab": {
          "base_uri": "https://localhost:8080/"
        },
        "id": "H8xrSzkBFTjS",
        "outputId": "00b85d5d-328a-42fc-a67f-0ff87c3c0f84"
      },
      "execution_count": 11,
      "outputs": [
        {
          "output_type": "stream",
          "name": "stdout",
          "text": [
            "  animal  age  visits priority\n",
            "a    cat  2.5       1      yes\n",
            "b    cat  3.0       3      yes\n",
            "c  snake  0.5       2       no\n",
            "d    dog  NaN       3      yes\n",
            "e    dog  5.0       2       no\n",
            "f    cat  1.5       3       no\n",
            "g  snake  4.5       1       no\n",
            "h    cat  NaN       1      yes\n",
            "i    dog  7.0       2       no\n",
            "j    dog  3.0       1       no\n",
            "k    dog  4.0       2       no\n"
          ]
        }
      ]
    },
    {
      "cell_type": "code",
      "source": [
        "df = df.drop('k', axis=0)\n",
        "print(df)"
      ],
      "metadata": {
        "colab": {
          "base_uri": "https://localhost:8080/"
        },
        "id": "gYkTDrVXF0Si",
        "outputId": "58be4ba0-4486-47fc-ef46-e53b5c08a1eb"
      },
      "execution_count": 12,
      "outputs": [
        {
          "output_type": "stream",
          "name": "stdout",
          "text": [
            "  animal  age  visits priority\n",
            "a    cat  2.5       1      yes\n",
            "b    cat  3.0       3      yes\n",
            "c  snake  0.5       2       no\n",
            "d    dog  NaN       3      yes\n",
            "e    dog  5.0       2       no\n",
            "f    cat  1.5       3       no\n",
            "g  snake  4.5       1       no\n",
            "h    cat  NaN       1      yes\n",
            "i    dog  7.0       2       no\n",
            "j    dog  3.0       1       no\n"
          ]
        }
      ]
    },
    {
      "cell_type": "markdown",
      "source": [
        "**14.** Count the number of each type of animal in `df`."
      ],
      "metadata": {
        "id": "KuHi6NNDF-a-"
      }
    },
    {
      "cell_type": "code",
      "source": [
        "animal_counts = df['animal'].value_counts()\n",
        "print(animal_counts)"
      ],
      "metadata": {
        "colab": {
          "base_uri": "https://localhost:8080/"
        },
        "id": "K6L0STDjF5-a",
        "outputId": "18c9f511-6792-4362-999a-558717659bf6"
      },
      "execution_count": 13,
      "outputs": [
        {
          "output_type": "stream",
          "name": "stdout",
          "text": [
            "cat      4\n",
            "dog      4\n",
            "snake    2\n",
            "Name: animal, dtype: int64\n"
          ]
        }
      ]
    },
    {
      "cell_type": "markdown",
      "source": [
        "**15.** Sort `df` first by the values in the 'age' in *decending* order, then by the value in the 'visits' column in *ascending* order (so row `i` should be first, and row `d` should be last)."
      ],
      "metadata": {
        "id": "cHam6XSMGOOU"
      }
    },
    {
      "cell_type": "code",
      "source": [
        "df_sorted = df.sort_values(['age', 'visits'], ascending=[False, True])\n",
        "print(df_sorted)"
      ],
      "metadata": {
        "colab": {
          "base_uri": "https://localhost:8080/"
        },
        "id": "1FEJKD4QGLXf",
        "outputId": "09425838-3546-4ef8-adc5-16ab30968b2c"
      },
      "execution_count": 14,
      "outputs": [
        {
          "output_type": "stream",
          "name": "stdout",
          "text": [
            "  animal  age  visits priority\n",
            "i    dog  7.0       2       no\n",
            "e    dog  5.0       2       no\n",
            "g  snake  4.5       1       no\n",
            "j    dog  3.0       1       no\n",
            "b    cat  3.0       3      yes\n",
            "a    cat  2.5       1      yes\n",
            "f    cat  1.5       3       no\n",
            "c  snake  0.5       2       no\n",
            "h    cat  NaN       1      yes\n",
            "d    dog  NaN       3      yes\n"
          ]
        }
      ]
    },
    {
      "cell_type": "markdown",
      "source": [
        "**16.** The 'priority' column contains the values 'yes' and 'no'. Replace this column with a column of boolean values: 'yes' should be `True` and 'no' should be `False`."
      ],
      "metadata": {
        "id": "a5ZfkXyXGrq5"
      }
    },
    {
      "cell_type": "code",
      "source": [
        "df['priority'] = df['priority'].replace({'yes': True, 'no': False})\n",
        "print(df)"
      ],
      "metadata": {
        "colab": {
          "base_uri": "https://localhost:8080/"
        },
        "id": "p07V1PDAGmEm",
        "outputId": "8bfa759b-46ed-4820-98a4-a249f3008111"
      },
      "execution_count": 15,
      "outputs": [
        {
          "output_type": "stream",
          "name": "stdout",
          "text": [
            "  animal  age  visits  priority\n",
            "a    cat  2.5       1      True\n",
            "b    cat  3.0       3      True\n",
            "c  snake  0.5       2     False\n",
            "d    dog  NaN       3      True\n",
            "e    dog  5.0       2     False\n",
            "f    cat  1.5       3     False\n",
            "g  snake  4.5       1     False\n",
            "h    cat  NaN       1      True\n",
            "i    dog  7.0       2     False\n",
            "j    dog  3.0       1     False\n"
          ]
        }
      ]
    },
    {
      "cell_type": "markdown",
      "source": [
        "**17.** In the 'animal' column, change the 'snake' entries to 'python'."
      ],
      "metadata": {
        "id": "PTN8f33mHFR0"
      }
    },
    {
      "cell_type": "code",
      "source": [
        "df['animal'] = df['animal'].replace('snake', 'python')\n",
        "print(df)"
      ],
      "metadata": {
        "colab": {
          "base_uri": "https://localhost:8080/"
        },
        "id": "9biRV3AnG_YD",
        "outputId": "82bfc4ab-5baf-4012-8f23-44fcf2b51c3e"
      },
      "execution_count": 16,
      "outputs": [
        {
          "output_type": "stream",
          "name": "stdout",
          "text": [
            "   animal  age  visits  priority\n",
            "a     cat  2.5       1      True\n",
            "b     cat  3.0       3      True\n",
            "c  python  0.5       2     False\n",
            "d     dog  NaN       3      True\n",
            "e     dog  5.0       2     False\n",
            "f     cat  1.5       3     False\n",
            "g  python  4.5       1     False\n",
            "h     cat  NaN       1      True\n",
            "i     dog  7.0       2     False\n",
            "j     dog  3.0       1     False\n"
          ]
        }
      ]
    },
    {
      "cell_type": "markdown",
      "source": [
        "**18.** Load the ny-flights dataset to Python"
      ],
      "metadata": {
        "id": "3CY5lNG1HdmH"
      }
    },
    {
      "cell_type": "code",
      "source": [
        "import pandas as pd\n",
        "\n",
        "df = pd.read_csv('ny-flights.csv')\n"
      ],
      "metadata": {
        "id": "opotYyJ2HbqY"
      },
      "execution_count": 27,
      "outputs": []
    },
    {
      "cell_type": "code",
      "source": [
        "print(df.head(10))"
      ],
      "metadata": {
        "colab": {
          "base_uri": "https://localhost:8080/"
        },
        "id": "dnwyQtsMKPf0",
        "outputId": "6afbdc53-9115-4545-b6ab-7e98bb0ebfd6"
      },
      "execution_count": 32,
      "outputs": [
        {
          "output_type": "stream",
          "name": "stdout",
          "text": [
            "               fl_date unique_carrier  airline_id tail_num  fl_num origin  \\\n",
            "0  2014-01-01 00:00:00             AA       19805   N338AA       1    JFK   \n",
            "1  2014-01-01 00:00:00             AA       19805   N335AA       3    JFK   \n",
            "2  2014-01-01 00:00:00             AA       19805   N327AA      21    JFK   \n",
            "3  2014-01-01 00:00:00             AA       19805   N3EHAA      29    LGA   \n",
            "4  2014-01-01 00:00:00             AA       19805   N319AA     117    JFK   \n",
            "5  2014-01-01 00:00:00             AA       19805   N323AA     185    JFK   \n",
            "6  2014-01-01 00:00:00             AA       19805   N328AA     133    JFK   \n",
            "7  2014-01-01 00:00:00             AA       19805   N5FJAA     145    JFK   \n",
            "8  2014-01-01 00:00:00             AA       19805   N3HYAA     235    JFK   \n",
            "9  2014-01-01 00:00:00             AA       19805   N332AA     177    JFK   \n",
            "\n",
            "  dest  dep_time  dep_delay  arr_time  arr_delay  cancelled  \\\n",
            "0  LAX     914.0       14.0    1238.0       13.0        0.0   \n",
            "1  LAX    1157.0       -3.0    1523.0       13.0        0.0   \n",
            "2  LAX    1902.0        2.0    2224.0        9.0        0.0   \n",
            "3  PBI     722.0       -8.0    1014.0      -26.0        0.0   \n",
            "4  LAX    1347.0        2.0    1706.0        1.0        0.0   \n",
            "5  LAX    2133.0       -2.0      37.0      -18.0        0.0   \n",
            "6  LAX    1542.0       -3.0    1906.0      -14.0        0.0   \n",
            "7  MIA    1509.0       -1.0    1828.0      -17.0        0.0   \n",
            "8  SEA    1848.0       -2.0    2206.0      -14.0        0.0   \n",
            "9  SFO    1752.0        7.0    2120.0       -5.0        0.0   \n",
            "\n",
            "                   arr                  dep  \n",
            "0  2014-01-01 12:38:00  2014-01-01 09:14:00  \n",
            "1  2014-01-01 15:23:00  2014-01-01 11:57:00  \n",
            "2  2014-01-01 22:24:00  2014-01-01 19:02:00  \n",
            "3  2014-01-01 10:14:00  2014-01-01 07:22:00  \n",
            "4  2014-01-01 17:06:00  2014-01-01 13:47:00  \n",
            "5  2014-01-01 00:37:00  2014-01-01 21:33:00  \n",
            "6  2014-01-01 19:06:00  2014-01-01 15:42:00  \n",
            "7  2014-01-01 18:28:00  2014-01-01 15:09:00  \n",
            "8  2014-01-01 22:06:00  2014-01-01 18:48:00  \n",
            "9  2014-01-01 21:20:00  2014-01-01 17:52:00  \n"
          ]
        }
      ]
    },
    {
      "cell_type": "markdown",
      "source": [
        "**19.** Which airline ID is present maximum times in the dataset"
      ],
      "metadata": {
        "id": "_rtQ4FwAIDv8"
      }
    },
    {
      "cell_type": "code",
      "source": [
        "\n",
        "airline_counts = df['airline_id'].value_counts()\n",
        "max_airline_id = airline_counts.index[0]\n",
        "\n",
        "print(\"Airline ID present maximum times:\", max_airline_id)"
      ],
      "metadata": {
        "colab": {
          "base_uri": "https://localhost:8080/"
        },
        "id": "gEPwJv2LH5Nu",
        "outputId": "e004948e-bc8f-4660-983c-8efad19b644a"
      },
      "execution_count": 29,
      "outputs": [
        {
          "output_type": "stream",
          "name": "stdout",
          "text": [
            "Airline ID present maximum times: 20409\n"
          ]
        }
      ]
    },
    {
      "cell_type": "markdown",
      "source": [
        "**20.** Draw a plot between dep_delay and arr_delay\n"
      ],
      "metadata": {
        "id": "1iwNlwt6JLcR"
      }
    },
    {
      "cell_type": "code",
      "source": [
        "\n",
        "import matplotlib.pyplot as plt\n",
        "\n",
        "plt.scatter(df['dep_delay'], df['arr_delay'])\n",
        "plt.xlabel('Departure Delay (minutes)')\n",
        "plt.ylabel('Arrival Delay (minutes)')\n",
        "plt.show()"
      ],
      "metadata": {
        "colab": {
          "base_uri": "https://localhost:8080/",
          "height": 279
        },
        "id": "51EXaCpbIQao",
        "outputId": "af10ebb7-26d6-41be-bf19-922620a00d1a"
      },
      "execution_count": 31,
      "outputs": [
        {
          "output_type": "display_data",
          "data": {
            "text/plain": [
              "<Figure size 432x288 with 1 Axes>"
            ],
            "image/png": "[encoded data removed]"
          },
          "metadata": {
            "needs_background": "light"
          }
        }
      ]
    },
    {
      "cell_type": "code",
      "source": [],
      "metadata": {
        "id": "l1LD9dUrJa98"
      },
      "execution_count": null,
      "outputs": []
    }
  ]
}